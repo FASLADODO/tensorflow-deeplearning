{
  "nbformat": 4,
  "nbformat_minor": 0,
  "metadata": {
    "colab": {
      "name": "tensor_flow.ipynb",
      "version": "0.3.2",
      "provenance": [],
      "collapsed_sections": []
    },
    "kernelspec": {
      "name": "python3",
      "display_name": "Python 3"
    }
  },
  "cells": [
    {
      "cell_type": "code",
      "metadata": {
        "id": "51XtxzLIcUWf",
        "colab_type": "code",
        "colab": {}
      },
      "source": [
        "import tensorflow as tf"
      ],
      "execution_count": 0,
      "outputs": []
    },
    {
      "cell_type": "code",
      "metadata": {
        "id": "w53tV0ademHF",
        "colab_type": "code",
        "colab": {
          "base_uri": "https://localhost:8080/",
          "height": 34
        },
        "outputId": "4bf9b184-2484-45b4-fa2a-cfe48101eb88"
      },
      "source": [
        "# check version of the tensorflow\n",
        "print(tf.__version__)"
      ],
      "execution_count": 5,
      "outputs": [
        {
          "output_type": "stream",
          "text": [
            "1.14.0\n"
          ],
          "name": "stdout"
        }
      ]
    },
    {
      "cell_type": "code",
      "metadata": {
        "id": "_OhA-0cecZcT",
        "colab_type": "code",
        "colab": {}
      },
      "source": [
        "# Create tensorflow object called tensor\n",
        "hello_constant = tf.constant('Hello world')"
      ],
      "execution_count": 0,
      "outputs": []
    },
    {
      "cell_type": "code",
      "metadata": {
        "id": "lOM-DzfPdnpi",
        "colab_type": "code",
        "colab": {
          "base_uri": "https://localhost:8080/",
          "height": 34
        },
        "outputId": "56ddc9b7-7e03-4f35-b123-dedd43c37918"
      },
      "source": [
        "hello_constant"
      ],
      "execution_count": 3,
      "outputs": [
        {
          "output_type": "execute_result",
          "data": {
            "text/plain": [
              "<tf.Tensor 'Const:0' shape=() dtype=string>"
            ]
          },
          "metadata": {
            "tags": []
          },
          "execution_count": 3
        }
      ]
    },
    {
      "cell_type": "code",
      "metadata": {
        "id": "O3RGEuVrdqDS",
        "colab_type": "code",
        "colab": {
          "base_uri": "https://localhost:8080/",
          "height": 34
        },
        "outputId": "fa2e3ada-8c7b-4d6a-977c-b89c3d6c0498"
      },
      "source": [
        "# Tensorflow Session()\n",
        "with tf.Session() as sess:\n",
        "  # Run the tf.constant operation in the session\n",
        "  output = sess.run(hello_constant)\n",
        "  print(output)"
      ],
      "execution_count": 4,
      "outputs": [
        {
          "output_type": "stream",
          "text": [
            "b'Hello world'\n"
          ],
          "name": "stdout"
        }
      ]
    },
    {
      "cell_type": "code",
      "metadata": {
        "id": "_T1Ken7AfUfY",
        "colab_type": "code",
        "colab": {
          "base_uri": "https://localhost:8080/",
          "height": 34
        },
        "outputId": "86084c1a-61dc-4593-b57c-a24d31929d7b"
      },
      "source": [
        "# another way to print\n",
        "sess = tf.Session()\n",
        "print(sess.run(hello_constant))\n",
        "sess.close()"
      ],
      "execution_count": 6,
      "outputs": [
        {
          "output_type": "stream",
          "text": [
            "b'Hello world'\n"
          ],
          "name": "stdout"
        }
      ]
    },
    {
      "cell_type": "code",
      "metadata": {
        "id": "C_xztRwTePBC",
        "colab_type": "code",
        "colab": {
          "base_uri": "https://localhost:8080/",
          "height": 34
        },
        "outputId": "b801668f-40d6-47f9-8818-a1b01194311b"
      },
      "source": [
        "# Three type of data: constant, place holder, variable\n",
        "# Multiply two constants\n",
        "a = tf.constant(4.0)\n",
        "b = tf.constant(6.0)\n",
        "c = a * b\n",
        "c"
      ],
      "execution_count": 7,
      "outputs": [
        {
          "output_type": "execute_result",
          "data": {
            "text/plain": [
              "<tf.Tensor 'mul:0' shape=() dtype=float32>"
            ]
          },
          "metadata": {
            "tags": []
          },
          "execution_count": 7
        }
      ]
    },
    {
      "cell_type": "code",
      "metadata": {
        "id": "LzO_P9WhfuYD",
        "colab_type": "code",
        "colab": {
          "base_uri": "https://localhost:8080/",
          "height": 34
        },
        "outputId": "de865ed5-c629-46d2-ae21-0b918552203c"
      },
      "source": [
        "sess = tf.Session()\n",
        "print(sess.run(c))\n",
        "sess.close()"
      ],
      "execution_count": 8,
      "outputs": [
        {
          "output_type": "stream",
          "text": [
            "24.0\n"
          ],
          "name": "stdout"
        }
      ]
    },
    {
      "cell_type": "code",
      "metadata": {
        "id": "w4OpNcyFf5bz",
        "colab_type": "code",
        "colab": {
          "base_uri": "https://localhost:8080/",
          "height": 34
        },
        "outputId": "ce5d2cae-431a-40b4-d843-4ec26114e3ec"
      },
      "source": [
        "a = tf.constant(4.0,tf.float32) # specify type of constant, f32 is the default\n",
        "b = tf.constant(6.0)\n",
        "\n",
        "sess = tf.Session()\n",
        "print(sess.run([a,b]))\n",
        "sess.close()"
      ],
      "execution_count": 9,
      "outputs": [
        {
          "output_type": "stream",
          "text": [
            "[4.0, 6.0]\n"
          ],
          "name": "stdout"
        }
      ]
    },
    {
      "cell_type": "code",
      "metadata": {
        "id": "daoYR09tgTjz",
        "colab_type": "code",
        "colab": {
          "base_uri": "https://localhost:8080/",
          "height": 34
        },
        "outputId": "5538f0ad-13eb-4d72-dd40-b0ceacf47a9e"
      },
      "source": [
        "# Place holders: promise to provide a value later\n",
        "\n",
        "a = tf.placeholder(tf.float32)\n",
        "b = tf.placeholder(tf.float32)\n",
        "\n",
        "c =  a + b\n",
        "\n",
        "sess = tf.Session()\n",
        "print(sess.run(c,feed_dict={a:[1,2,3],b:[7,8,9]}))\n",
        "#sess.close()"
      ],
      "execution_count": 13,
      "outputs": [
        {
          "output_type": "stream",
          "text": [
            "[ 8. 10. 12.]\n"
          ],
          "name": "stdout"
        }
      ]
    },
    {
      "cell_type": "code",
      "metadata": {
        "id": "ohLwOmilhmCf",
        "colab_type": "code",
        "colab": {
          "base_uri": "https://localhost:8080/",
          "height": 51
        },
        "outputId": "f4e81e42-7aca-4e40-cd13-2d1a8e565df9"
      },
      "source": [
        "# Do another calculation\n",
        "d = c*10\n",
        "print(sess.run(d,{a:[[1,2,3],[4,5,6]], \n",
        "                 b:[[10,11,12],[13,14,15]]}))\n",
        "sess.close()"
      ],
      "execution_count": 15,
      "outputs": [
        {
          "output_type": "stream",
          "text": [
            "[[110. 130. 150.]\n",
            " [170. 190. 210.]]\n"
          ],
          "name": "stdout"
        }
      ]
    },
    {
      "cell_type": "code",
      "metadata": {
        "id": "IiCNgfDuioI_",
        "colab_type": "code",
        "colab": {
          "base_uri": "https://localhost:8080/",
          "height": 34
        },
        "outputId": "ac4bdbd3-98c6-47d2-fe93-f7708e4c6e81"
      },
      "source": [
        "# Variable: allow us to add trainable parameters to a graph\n",
        "w = tf.Variable([0.5],tf.float32)\n",
        "# need to run this code to initialize the Variables()\n",
        "init = tf.global_variables_initializer() \n",
        "\n",
        "sess = tf.Session()\n",
        "sess.run(init)\n",
        "print(sess.run(w))"
      ],
      "execution_count": 18,
      "outputs": [
        {
          "output_type": "stream",
          "text": [
            "[0.5]\n"
          ],
          "name": "stdout"
        }
      ]
    },
    {
      "cell_type": "code",
      "metadata": {
        "id": "oFmYb4lejtmu",
        "colab_type": "code",
        "colab": {
          "base_uri": "https://localhost:8080/",
          "height": 34
        },
        "outputId": "8e3c0902-cb5f-46f8-fc4c-ce8ca0097e2c"
      },
      "source": [
        "# y = b + w*x\n",
        "\n",
        "w = tf.Variable([0.1],tf.float32)\n",
        "b = tf.Variable([-0.5],tf.float32)\n",
        "x = tf.placeholder(tf.float32)\n",
        "\n",
        "y = w*x + b\n",
        "\n",
        "init = tf.global_variables_initializer() \n",
        "\n",
        "sess = tf.Session()\n",
        "sess.run(init)\n",
        "print(sess.run(y,{x:[1,2,3,5,6,8]}))"
      ],
      "execution_count": 19,
      "outputs": [
        {
          "output_type": "stream",
          "text": [
            "[-0.4        -0.3        -0.19999999  0.          0.10000002  0.3       ]\n"
          ],
          "name": "stdout"
        }
      ]
    },
    {
      "cell_type": "code",
      "metadata": {
        "id": "kAsL3asElBVF",
        "colab_type": "code",
        "colab": {
          "base_uri": "https://localhost:8080/",
          "height": 34
        },
        "outputId": "68a69a81-3f49-4931-9c16-43aeb9b73e33"
      },
      "source": [
        "# Math\n",
        "a = tf.add(1,5)\n",
        "b = tf.subtract(8,6)\n",
        "c = tf.multiply(2,4)\n",
        "\n",
        "sess = tf.Session()\n",
        "print(sess.run([a,b,c]))\n",
        "sess.close()"
      ],
      "execution_count": 30,
      "outputs": [
        {
          "output_type": "stream",
          "text": [
            "[6, 2, 8]\n"
          ],
          "name": "stdout"
        }
      ]
    },
    {
      "cell_type": "code",
      "metadata": {
        "id": "y_XRFnEDlimH",
        "colab_type": "code",
        "colab": {
          "base_uri": "https://localhost:8080/",
          "height": 34
        },
        "outputId": "fc3c1390-e78f-4983-c7f8-515ed1dee6c3"
      },
      "source": [
        "# Activation Functions\n",
        "import numpy as np\n",
        "\n",
        "# sigmoid\n",
        "def sigmoid_(a):\n",
        "  return 1/(1+np.exp(-a))\n",
        "\n",
        "sigmoid_(0.5)"
      ],
      "execution_count": 32,
      "outputs": [
        {
          "output_type": "execute_result",
          "data": {
            "text/plain": [
              "0.6224593312018546"
            ]
          },
          "metadata": {
            "tags": []
          },
          "execution_count": 32
        }
      ]
    },
    {
      "cell_type": "code",
      "metadata": {
        "id": "_wtiuet6mUcW",
        "colab_type": "code",
        "colab": {
          "base_uri": "https://localhost:8080/",
          "height": 34
        },
        "outputId": "fa30d3ac-3cc7-4793-8f90-7459f888e707"
      },
      "source": [
        "# relu\n",
        "def relu_(a):\n",
        "  return np.maximum(0,a)\n",
        "\n",
        "relu_([-2,5,-3])"
      ],
      "execution_count": 33,
      "outputs": [
        {
          "output_type": "execute_result",
          "data": {
            "text/plain": [
              "array([0, 5, 0])"
            ]
          },
          "metadata": {
            "tags": []
          },
          "execution_count": 33
        }
      ]
    },
    {
      "cell_type": "code",
      "metadata": {
        "id": "lhUtmLClmx43",
        "colab_type": "code",
        "colab": {
          "base_uri": "https://localhost:8080/",
          "height": 34
        },
        "outputId": "502421d6-46c0-4143-8d51-4760c7c2b19e"
      },
      "source": [
        "# softmax\n",
        "def softmax(a):\n",
        "  return np.exp(a)/np.sum(np.exp(a),axis=0)\n",
        "\n",
        "print(softmax([2,4,5]))"
      ],
      "execution_count": 28,
      "outputs": [
        {
          "output_type": "stream",
          "text": [
            "[0.03511903 0.25949646 0.70538451]\n"
          ],
          "name": "stdout"
        }
      ]
    },
    {
      "cell_type": "code",
      "metadata": {
        "id": "sCPIvMhDnU1o",
        "colab_type": "code",
        "colab": {
          "base_uri": "https://localhost:8080/",
          "height": 68
        },
        "outputId": "5408b659-9145-49fc-ecb0-7c34a7149c9e"
      },
      "source": [
        "# with tensorflow\n",
        "\n",
        "a = [0.2,4,-5]\n",
        "\n",
        "sigmoid_activation = tf.sigmoid(a)\n",
        "tanh_activation = tf.tanh(a)\n",
        "relu_activation = tf.nn.relu(a)\n",
        "\n",
        "with tf.Session() as sess:\n",
        "  b1 = sess.run(sigmoid_activation)\n",
        "  b2 = sess.run(tanh_activation)\n",
        "  b3 = sess.run(relu_activation)\n",
        "  \n",
        "  print('b1:',b1)\n",
        "  print('b2:',b2)\n",
        "  print('b3:',b3)"
      ],
      "execution_count": 35,
      "outputs": [
        {
          "output_type": "stream",
          "text": [
            "b1: [0.54983395 0.98201376 0.00669285]\n",
            "b2: [ 0.19737528  0.9993292  -0.99990916]\n",
            "b3: [0.2 4.  0. ]\n"
          ],
          "name": "stdout"
        }
      ]
    },
    {
      "cell_type": "code",
      "metadata": {
        "id": "GNromhRxoh8I",
        "colab_type": "code",
        "colab": {
          "base_uri": "https://localhost:8080/",
          "height": 51
        },
        "outputId": "86656541-da6f-41c5-ca68-d79f1fdd7e11"
      },
      "source": [
        "# truncated_normal: Gaussian distrubuted with mean 0 and std 1\n",
        "a = tf.truncated_normal([2,3])\n",
        "sess = tf.Session()\n",
        "sess.run(a)\n",
        "#sess.close()"
      ],
      "execution_count": 39,
      "outputs": [
        {
          "output_type": "execute_result",
          "data": {
            "text/plain": [
              "array([[ 0.8757731 , -0.26341593, -1.9293851 ],\n",
              "       [ 0.7241138 , -0.9559266 , -0.5861528 ]], dtype=float32)"
            ]
          },
          "metadata": {
            "tags": []
          },
          "execution_count": 39
        }
      ]
    },
    {
      "cell_type": "code",
      "metadata": {
        "id": "5NABEg_GqZxa",
        "colab_type": "code",
        "colab": {
          "base_uri": "https://localhost:8080/",
          "height": 34
        },
        "outputId": "2435544e-8475-4d2e-c3c0-24a8c331a413"
      },
      "source": [
        "# loss function\n",
        "w = tf.Variable([0.1],tf.float32)\n",
        "b = tf.Variable([-0.5],tf.float32)\n",
        "\n",
        "x = tf.placeholder(tf.float32)\n",
        "y = tf.placeholder(tf.float32)\n",
        "\n",
        "y_model = w*x + b\n",
        "\n",
        "mse = tf.square(y_model - y)\n",
        "loss = tf.reduce_sum(mse)\n",
        "\n",
        "init = tf.global_variables_initializer()\n",
        "sess = tf.Session()\n",
        "sess.run(init)\n",
        "\n",
        "print(sess.run(loss,{x:[1,2,3,4],y:[10,11,24,8]}))  # total lost\n",
        "sess.close() "
      ],
      "execution_count": 41,
      "outputs": [
        {
          "output_type": "stream",
          "text": [
            "887.1\n"
          ],
          "name": "stdout"
        }
      ]
    },
    {
      "cell_type": "code",
      "metadata": {
        "id": "iAuVBZXOs1B7",
        "colab_type": "code",
        "colab": {
          "base_uri": "https://localhost:8080/",
          "height": 34
        },
        "outputId": "1f1bbf32-eb97-4737-83c5-2edf6bbf89bd"
      },
      "source": [
        "# optimization\n",
        "w = tf.Variable([0.1],tf.float32)\n",
        "b = tf.Variable([-0.5],tf.float32)\n",
        "\n",
        "x = tf.placeholder(tf.float32)\n",
        "y = tf.placeholder(tf.float32)\n",
        "\n",
        "y_model = w*x + b\n",
        "\n",
        "mse = tf.square(y_model - y)\n",
        "loss = tf.reduce_sum(mse)\n",
        "\n",
        "optimizer = tf.train.GradientDescentOptimizer(0.01)\n",
        "train = optimizer.minimize(loss)\n",
        "\n",
        "init = tf.global_variables_initializer()\n",
        "sess = tf.Session()\n",
        "sess.run(init)\n",
        "\n",
        "for i in range(3):\n",
        "  sess.run(loss,{x:[1,2,3,4],y:[10,11,24,8]})\n",
        "\n",
        "print(sess.run([w,b]))"
      ],
      "execution_count": 43,
      "outputs": [
        {
          "output_type": "stream",
          "text": [
            "[array([0.1], dtype=float32), array([-0.5], dtype=float32)]\n"
          ],
          "name": "stdout"
        }
      ]
    },
    {
      "cell_type": "code",
      "metadata": {
        "id": "wHb-RunluzMM",
        "colab_type": "code",
        "colab": {}
      },
      "source": [
        "sess.close()"
      ],
      "execution_count": 0,
      "outputs": []
    },
    {
      "cell_type": "code",
      "metadata": {
        "id": "nlExANEdu74b",
        "colab_type": "code",
        "colab": {}
      },
      "source": [
        "# neural network\n",
        "\n",
        "# define and initialize hyper parameters\n",
        "learning_rate = 0.1\n",
        "training_epochs = 100\n",
        "\n",
        "cost_history = np.empty(shape=[1],dtype=float)"
      ],
      "execution_count": 0,
      "outputs": []
    },
    {
      "cell_type": "code",
      "metadata": {
        "id": "MMUhHt-zx0Wv",
        "colab_type": "code",
        "colab": {}
      },
      "source": [
        "n_dim = 4  #n_dim = X.shape[1]\n",
        "n_class = 2"
      ],
      "execution_count": 0,
      "outputs": []
    },
    {
      "cell_type": "code",
      "metadata": {
        "id": "-JwTswk7x7mT",
        "colab_type": "code",
        "colab": {}
      },
      "source": [
        "x = tf.placeholder(tf.float32,[None,n_dim])\n",
        "w = tf.Variable(tf.zeros([n_dim,n_class]))\n",
        "b = tf.Variable(tf.zeros([n_class]))"
      ],
      "execution_count": 0,
      "outputs": []
    },
    {
      "cell_type": "code",
      "metadata": {
        "id": "PnFO_AqSyWeb",
        "colab_type": "code",
        "colab": {}
      },
      "source": [
        "# initialize all variables\n",
        "init = tf.global_variables_initializer()\n",
        "#define cost function\n",
        "y1 = tf.placeholder(tf.float32,[None,n_class]) # actual value\n",
        "y = tf.nn.softmax(tf.matmul(x,w)+b)  # model value\n",
        "\n",
        "cost_function = tf.reduce_mean(-tf.reduce_sum((y1*tf.log(y)),reduction_indices=[1]))\n",
        "training_step = tf.train.GradientDescentOptimizer(learning_rate).minimize(cost_function)"
      ],
      "execution_count": 0,
      "outputs": []
    },
    {
      "cell_type": "code",
      "metadata": {
        "id": "ZwBIRG-21CfS",
        "colab_type": "code",
        "colab": {}
      },
      "source": [
        "# initialize the session\n",
        "sess = tf.Session()\n",
        "sess.run(init)"
      ],
      "execution_count": 0,
      "outputs": []
    },
    {
      "cell_type": "code",
      "metadata": {
        "id": "Ntqvni8v2Hx-",
        "colab_type": "code",
        "colab": {}
      },
      "source": [
        "mse_history = []\n",
        "# calculate the cost for each epoch\n",
        "for epoch in range(training_epochs):\n",
        "  sess.run(training_step,feed_dict={x:x_train,y1:y_train})\n",
        "  cost = sess.run(cost_function,feed_dict={x:x_train,y1:y_train})\n",
        "  cost_history = np.append(cost_history,cost)\n",
        "  y_pred = sess.run(y,feed_dict={x:x_test})\n",
        "  print('epoch:',epoch,'-','cost:',cost)\n",
        "  \n",
        "  mse = tf.reduce_mean(tf.square(y_pred - y_test))\n",
        "  mse_history.append(sess.run(mse))\n",
        " \n",
        "# print the final mse\n",
        "print('MSE:', mse_history)\n",
        "#plt.plot(mse_history,'ro-')"
      ],
      "execution_count": 0,
      "outputs": []
    },
    {
      "cell_type": "code",
      "metadata": {
        "id": "JKkqYIPj4M9V",
        "colab_type": "code",
        "colab": {}
      },
      "source": [
        "correct_prediction = tf.equal(tf.argmax(y,1),tf.argmax(y1,1))\n",
        "accuracy = tf.reduce_mean(tf.cast(correct_prediction,tf.float32))\n",
        "print('Accuracy:',(sess.run(accuracy,feed_dict={x:x_test, y1:y_test})))"
      ],
      "execution_count": 0,
      "outputs": []
    },
    {
      "cell_type": "code",
      "metadata": {
        "id": "iNqQajQF42JD",
        "colab_type": "code",
        "colab": {}
      },
      "source": [
        "plt.plot(range(len(cost_history)),cost_history)\n",
        "plt.axis([0,training_epochs,0,np.max(cost_history)])\n"
      ],
      "execution_count": 0,
      "outputs": []
    }
  ]
}